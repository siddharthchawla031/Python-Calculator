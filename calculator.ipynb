{
 "cells": [
  {
   "cell_type": "code",
   "execution_count": null,
   "id": "d294b8cc-9cbc-4f2c-bba6-a3d5217a8b19",
   "metadata": {},
   "outputs": [
    {
     "name": "stdout",
     "output_type": "stream",
     "text": [
      "Available operations:\n",
      "+\n",
      "-\n",
      "*\n",
      "/\n"
     ]
    }
   ],
   "source": [
    "\n",
    "def add(n1, n2):\n",
    "    return n1 + n2\n",
    "\n",
    "def subtract(n1, n2):\n",
    "    return n1 - n2\n",
    "\n",
    "def multiply(n1, n2):\n",
    "    return n1 * n2\n",
    "\n",
    "def divide(n1, n2):\n",
    "    if n2 == 0:\n",
    "        return \"Cannot divide by zero!\"\n",
    "    return n1 / n2\n",
    "\n",
    "operations = {\n",
    "    \"+\": add,\n",
    "    \"-\": subtract,\n",
    "    \"*\": multiply,\n",
    "    \"/\": divide\n",
    "}\n",
    "\n",
    "print(\"Available operations:\")\n",
    "for symbol in operations:\n",
    "    print(symbol)\n",
    "\n",
    "def calculator():\n",
    "    \n",
    "    should_accumulate=True\n",
    "    num1 = float(input(\"What is the first number?: \"))\n",
    "\n",
    "    while should_accumulate:\n",
    "    \n",
    "# Get user input\n",
    "\n",
    "        oper = input(\"Pick an operation: \")\n",
    "        num2 = float(input(\"What is the second number?: \"))\n",
    "\n",
    "# Perform and print result\n",
    "        if oper in operations:\n",
    "            result = operations[oper](num1, num2)\n",
    "            print(f\"{num1} {oper} {num2} = {result}\")\n",
    "        else:\n",
    "            print(\"Invalid operation\")\n",
    "\n",
    "        choice=input(f\"Type 'y' to continue calculating with {result}, or type 'n' to start a new calculations.\")\n",
    "        if choice == 'y':\n",
    "            num1=result\n",
    "        else:\n",
    "            should_accumulate=False\n",
    "            print(\"\\n\" *20)\n",
    "            calculator\n",
    "\n",
    "\n",
    "calculator()"
   ]
  },
  {
   "cell_type": "code",
   "execution_count": null,
   "id": "43121d1d-2fba-4239-a129-f685c5037fb6",
   "metadata": {},
   "outputs": [],
   "source": []
  }
 ],
 "metadata": {
  "kernelspec": {
   "display_name": "Python [conda env:base] *",
   "language": "python",
   "name": "conda-base-py"
  },
  "language_info": {
   "codemirror_mode": {
    "name": "ipython",
    "version": 3
   },
   "file_extension": ".py",
   "mimetype": "text/x-python",
   "name": "python",
   "nbconvert_exporter": "python",
   "pygments_lexer": "ipython3",
   "version": "3.12.7"
  }
 },
 "nbformat": 4,
 "nbformat_minor": 5
}
